{
 "cells": [
  {
   "cell_type": "code",
   "execution_count": 87,
   "metadata": {},
   "outputs": [],
   "source": [
    "import json\n",
    "import requests\n",
    "import time\n",
    "data_url = 'https://query1.finance.yahoo.com'\n",
    "\n",
    "tickers = ['TSLA']\n",
    "exchange = 'NSQ'"
   ]
  },
  {
   "cell_type": "markdown",
   "metadata": {},
   "source": [
    "## Helper Functions"
   ]
  },
  {
   "cell_type": "code",
   "execution_count": null,
   "metadata": {},
   "outputs": [],
   "source": [
    "def get_exchange(ticker):\n",
    "    time.sleep(0.25)\n",
    "    resp = requests.get(f\"{data_url}/v8/finance/chart/{ticker}\", params = {'range': '1d'})\n",
    "    data = resp.json()\n",
    "    return data['chart']['result'][0]['meta']['exchangeName']"
   ]
  },
  {
   "cell_type": "code",
   "execution_count": null,
   "metadata": {},
   "outputs": [],
   "source": [
    "def get_quotes(ticker):\n",
    "    time.sleep(0.25)\n",
    "    resp = requests.get(f\"{data_url}/v8/finance/chart/{ticker}\", params = {'range': '1d'})\n",
    "    data = resp.json()\n",
    "    quotes = data['chart']['result'][0]['indicators']['quote'][0]['close']\n",
    "    quotes = [q for q in quotes if q is not None]\n",
    "    return quotes"
   ]
  },
  {
   "cell_type": "markdown",
   "metadata": {},
   "source": [
    "## Problem 1\n",
    "#### Implement the function `compute_max_return()`. Given the series of quotes it should return the maximum profit you could have made by buying and selling one share of the stock."
   ]
  },
  {
   "cell_type": "code",
   "execution_count": 110,
   "metadata": {},
   "outputs": [],
   "source": [
    "sample_quotes = get_quotes('TSLA')"
   ]
  },
  {
   "cell_type": "code",
   "execution_count": null,
   "metadata": {},
   "outputs": [],
   "source": [
    "def compute_max_return(quotes):\n",
    "    pass\n",
    "        \n",
    "max_profit = compute_max_return(sample_quotes)\n",
    "print(max_profit)"
   ]
  },
  {
   "cell_type": "markdown",
   "metadata": {},
   "source": [
    "## Problem 2\n",
    "#### Implement the function `process_by_exchange()` which takes a list of tickers and an exchange name and processes them by making an API call to check a security's exchange and then proceeds to call `compute_max_return()` if that security belongs to the desired exchange."
   ]
  },
  {
   "cell_type": "code",
   "execution_count": null,
   "metadata": {},
   "outputs": [],
   "source": [
    "def process_by_exchange(tickers, exchange):\n",
    "    pass\n",
    "\n",
    "new_tickers = filter_by_exchange(tickers, exchange)"
   ]
  }
 ],
 "metadata": {
  "kernelspec": {
   "display_name": "Python 3",
   "language": "python",
   "name": "python3"
  },
  "language_info": {
   "codemirror_mode": {
    "name": "ipython",
    "version": 3
   },
   "file_extension": ".py",
   "mimetype": "text/x-python",
   "name": "python",
   "nbconvert_exporter": "python",
   "pygments_lexer": "ipython3",
   "version": "3.7.5"
  }
 },
 "nbformat": 4,
 "nbformat_minor": 4
}

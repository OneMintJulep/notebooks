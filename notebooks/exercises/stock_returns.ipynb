{
 "cells": [
  {
   "cell_type": "markdown",
   "metadata": {},
   "source": [
    "# Stock Returns"
   ]
  },
  {
   "cell_type": "code",
   "execution_count": 87,
   "metadata": {},
   "outputs": [],
   "source": [
    "import json\n",
    "import requests\n",
    "import time\n",
    "\n",
    "data_url = 'https://query1.finance.yahoo.com'\n",
    "ticker = 'TSLA'"
   ]
  },
  {
   "cell_type": "code",
   "execution_count": null,
   "metadata": {},
   "outputs": [],
   "source": [
    "def get_quotes(ticker):\n",
    "    time.sleep(0.25)\n",
    "    resp = requests.get(f\"{data_url}/v8/finance/chart/{ticker}\", params = {'range': '1d'})\n",
    "    data = resp.json()\n",
    "    quotes = data['chart']['result'][0]['indicators']['quote'][0]['close']\n",
    "    quotes = [q for q in quotes if q is not None]\n",
    "    return quotes"
   ]
  },
  {
   "cell_type": "markdown",
   "metadata": {},
   "source": [
    "## Exercise\n",
    "#### Implement the function `compute_max_return()`. Given the series of quotes it should return the maximum profit you could have made by buying and selling one share of the stock."
   ]
  },
  {
   "cell_type": "code",
   "execution_count": 110,
   "metadata": {},
   "outputs": [],
   "source": [
    "sample_quotes = get_quotes(ticker)"
   ]
  },
  {
   "cell_type": "code",
   "execution_count": null,
   "metadata": {},
   "outputs": [],
   "source": [
    "def compute_max_return(quotes):\n",
    "    pass\n",
    "        \n",
    "max_profit = compute_max_return(sample_quotes)\n",
    "print(max_profit)"
   ]
  }
 ],
 "metadata": {
  "kernelspec": {
   "display_name": "Python 3",
   "language": "python",
   "name": "python3"
  },
  "language_info": {
   "codemirror_mode": {
    "name": "ipython",
    "version": 3
   },
   "file_extension": ".py",
   "mimetype": "text/x-python",
   "name": "python",
   "nbconvert_exporter": "python",
   "pygments_lexer": "ipython3",
   "version": "3.7.5"
  }
 },
 "nbformat": 4,
 "nbformat_minor": 4
}
